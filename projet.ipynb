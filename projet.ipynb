{
 "cells": [
  {
   "cell_type": "markdown",
   "id": "95f464c6",
   "metadata": {},
   "source": [
    "# 1 Etude du problème d’optimisation\n",
    "\n",
    "\n",
    "\n"
   ]
  },
  {
   "cell_type": "markdown",
   "id": "8cf81b2d",
   "metadata": {},
   "source": [
    "#### Q1 \n",
    "La minimisation de $K(x_{N}-L/2)$ permet de répondre à la contrainte d'arrosage : on doit arroser le parterre de fleur situé en (0,1). On cherche donc à minimiser la distance du bout du tuyau à ce point d'intérêt. \n",
    "La minimisation de SOMME traduit la minimisation de la hauteur moyenne du tuyau (selon l'axe y). En minimisant cette somme : on cherche à \"compacter\" le tuyau proche de l'axe x.\n"
   ]
  },
  {
   "cell_type": "markdown",
   "id": "bdfca569",
   "metadata": {},
   "source": [
    "#### Q2\n",
    "La valeur initiale qu'on doit donner au solveur doit vérifier les contraintes. Il serait compliqué de trouver/prouver l'existence d'une telle solution ie avec deux conditions aux bords ainsi qu'une condition de courbure (la courbure à des conditions aux bords et elle est bornée)."
   ]
  },
  {
   "cell_type": "markdown",
   "id": "49edb911",
   "metadata": {},
   "source": [
    "#### Q3\n",
    "Les $y_{i}\\mapsto\\lvert y_{i}\\rvert$ ne sont pas différentiables sur $\\mathbb{R}$. Ce manque de régularité pose évidemment problème dans l'algorithme de minimisation. \n",
    "\n"
   ]
  },
  {
   "cell_type": "markdown",
   "id": "caa1a872",
   "metadata": {},
   "source": [
    "#### Q4\n",
    "\n"
   ]
  },
  {
   "cell_type": "markdown",
   "id": "8c5f28ea",
   "metadata": {},
   "source": [
    "#### Q5\n",
    "On considère la variable de décision : \n",
    "$z = (\\theta_{i},x_{i},y_{i},w_{i})$\n",
    "\n"
   ]
  },
  {
   "cell_type": "markdown",
   "id": "3692724d",
   "metadata": {},
   "source": [
    "# 2 Etude et résolution numériques\n"
   ]
  },
  {
   "cell_type": "markdown",
   "id": "3a12258a",
   "metadata": {},
   "source": [
    "#### Q6\n",
    "On peut implémenter un algorithme de résolution avec Scipy ou Casadi.\n"
   ]
  },
  {
   "cell_type": "markdown",
   "id": "a92e5354",
   "metadata": {},
   "source": [
    "#### Q7"
   ]
  },
  {
   "cell_type": "code",
   "execution_count": null,
   "id": "92798bd6",
   "metadata": {},
   "outputs": [
    {
     "name": "stdout",
     "output_type": "stream",
     "text": [
      "-0.21406068356382152\n",
      "0.2\n",
      "[ 1.          1.          0.95751407  0.91502814  0.87254221  0.83005628\n",
      "  0.78757036  0.74508443  0.7025985   0.66011257  0.61762664  0.57514071\n",
      "  0.53265478  0.49016885  0.44768292  0.405197    0.36271107  0.32022514\n",
      "  0.27773921  0.23525328  0.19276735  0.15028142  0.10779549  0.06530956\n",
      "  0.02282364 -0.01966229 -0.06214822 -0.10463415 -0.14712008 -0.18960601\n",
      " -0.23209194 -0.27457787 -0.31706379 -0.35954972 -0.40203565 -0.44452158\n",
      " -0.48700751 -0.52949344 -0.57197937 -0.6144653  -0.65695123 -0.69943715\n",
      " -0.74192308 -0.78440901 -0.82689494 -0.86938087 -0.9118668  -0.95435273\n",
      " -0.99683866 -1.03932459]\n"
     ]
    },
    {
     "data": {
      "text/plain": [
       "[<matplotlib.lines.Line2D at 0x1b7ac8c7f50>]"
      ]
     },
     "execution_count": 18,
     "metadata": {},
     "output_type": "execute_result"
    },
    {
     "data": {
      "image/png": "[encoded data removed]",
      "text/plain": [
       "<Figure size 640x480 with 1 Axes>"
      ]
     },
     "metadata": {},
     "output_type": "display_data"
    }
   ],
   "source": [
    "import numpy as np\n",
    "import matplotlib.pyplot as plt\n",
    "\n",
    "K=1\n",
    "N=50\n",
    "L=10\n",
    "ds=L/N\n",
    "a=1\n",
    "thetamax=a*ds\n",
    "\n",
    "##1)on trouve dans un premier temps la condition initiale :\n",
    "m=N+(N+1)+(N+1)+(N+1)\n",
    "z=np.zeros(m) #theta initial est nul\n",
    "#en tracant la droite reliant les point (1,0) et (0,L) en prenant compte des theta initial et final, theta est donc constant\n",
    "theta = -np.arctan(1/((L-2*ds))\n",
    "z[2*N+1]=1\n",
    "z[3*N+2]=1\n",
    "for i in range (1,N-1) :\n",
    "    z[i]=theta\n",
    "for i in range (N+1,2*N+1):\n",
    "    for j in range (i) :\n",
    "        z[i]=z[i-1]+ds*np.cos(z[i-(N+1)])\n",
    "        z[i+N+1]=z[i+N]+ds*np.sin(z[i-(N+1)])\n",
    "        z[i+2*(N+1)]=z[i+N+1]\n",
    "print (theta)\n",
    "print(thetamax)\n",
    "print(z[2*N+1:3*N+1])\n",
    "plt.plot(z[N:2*N],z[2*N+1:3*N+1])\n",
    "    \n",
    "    \n",
    "\n",
    "\n",
    "\n",
    "##on def la fonction à minimiser \n",
    "#def f_cout(z):\n",
    "    \n",
    "    #return "
   ]
  },
  {
   "cell_type": "code",
   "execution_count": null,
   "id": "bfd7419b",
   "metadata": {},
   "outputs": [],
   "source": [
    "\n",
    "\n",
    "\n"
   ]
  }
 ],
 "metadata": {
  "kernelspec": {
   "display_name": "base",
   "language": "python",
   "name": "python3"
  },
  "language_info": {
   "codemirror_mode": {
    "name": "ipython",
    "version": 3
   },
   "file_extension": ".py",
   "mimetype": "text/x-python",
   "name": "python",
   "nbconvert_exporter": "python",
   "pygments_lexer": "ipython3",
   "version": "3.12.3"
  }
 },
 "nbformat": 4,
 "nbformat_minor": 5
}
